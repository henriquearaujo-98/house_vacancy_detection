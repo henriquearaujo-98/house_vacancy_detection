{
 "cells": [
  {
   "cell_type": "markdown",
   "metadata": {},
   "source": [
    "<h1>Importing the dataframe</h1>"
   ]
  },
  {
   "cell_type": "markdown",
   "metadata": {},
   "source": [
    "Usamos o pacote pandas para importar o ficheiro cvs em formato DataFrame"
   ]
  },
  {
   "cell_type": "code",
   "execution_count": 7,
   "metadata": {},
   "outputs": [],
   "source": [
    "import pandas as pd"
   ]
  },
  {
   "cell_type": "code",
   "execution_count": 8,
   "metadata": {},
   "outputs": [],
   "source": [
    "df = pd.read_csv ('dataset.csv')"
   ]
  },
  {
   "cell_type": "markdown",
   "metadata": {},
   "source": [
    "<h1>Dataframe Analysis</h1>"
   ]
  },
  {
   "cell_type": "markdown",
   "metadata": {},
   "source": [
    "<h3>Variables and data structures</h3>"
   ]
  },
  {
   "cell_type": "code",
   "execution_count": 9,
   "metadata": {},
   "outputs": [
    {
     "name": "stdout",
     "output_type": "stream",
     "text": [
      "<class 'pandas.core.frame.DataFrame'>\n",
      "RangeIndex: 14000 entries, 0 to 13999\n",
      "Data columns (total 7 columns):\n",
      " #   Column             Non-Null Count  Dtype  \n",
      "---  ------             --------------  -----  \n",
      " 0   id                 14000 non-null  int64  \n",
      " 1   temperature        13998 non-null  float64\n",
      " 2   relitive_humidity  13999 non-null  float64\n",
      " 3   light              13995 non-null  float64\n",
      " 4   CO2                13999 non-null  float64\n",
      " 5   absolute_humidity  13999 non-null  float64\n",
      " 6   occupied           13999 non-null  float64\n",
      "dtypes: float64(6), int64(1)\n",
      "memory usage: 765.8 KB\n"
     ]
    }
   ],
   "source": [
    "df.info() # rows and their data structures"
   ]
  },
  {
   "cell_type": "markdown",
   "metadata": {},
   "source": [
    "<h3>Data</h3>"
   ]
  },
  {
   "cell_type": "code",
   "execution_count": 10,
   "metadata": {},
   "outputs": [
    {
     "data": {
      "text/html": [
       "<div>\n",
       "<style scoped>\n",
       "    .dataframe tbody tr th:only-of-type {\n",
       "        vertical-align: middle;\n",
       "    }\n",
       "\n",
       "    .dataframe tbody tr th {\n",
       "        vertical-align: top;\n",
       "    }\n",
       "\n",
       "    .dataframe thead th {\n",
       "        text-align: right;\n",
       "    }\n",
       "</style>\n",
       "<table border=\"1\" class=\"dataframe\">\n",
       "  <thead>\n",
       "    <tr style=\"text-align: right;\">\n",
       "      <th></th>\n",
       "      <th>id</th>\n",
       "      <th>temperature</th>\n",
       "      <th>relitive_humidity</th>\n",
       "      <th>light</th>\n",
       "      <th>CO2</th>\n",
       "      <th>absolute_humidity</th>\n",
       "      <th>occupied</th>\n",
       "    </tr>\n",
       "  </thead>\n",
       "  <tbody>\n",
       "    <tr>\n",
       "      <th>0</th>\n",
       "      <td>1</td>\n",
       "      <td>21.378188</td>\n",
       "      <td>25.525852</td>\n",
       "      <td>134.009125</td>\n",
       "      <td>586.057521</td>\n",
       "      <td>0.003686</td>\n",
       "      <td>0.0</td>\n",
       "    </tr>\n",
       "    <tr>\n",
       "      <th>1</th>\n",
       "      <td>2</td>\n",
       "      <td>19.827806</td>\n",
       "      <td>27.059169</td>\n",
       "      <td>132.640046</td>\n",
       "      <td>393.046090</td>\n",
       "      <td>0.003989</td>\n",
       "      <td>0.0</td>\n",
       "    </tr>\n",
       "    <tr>\n",
       "      <th>2</th>\n",
       "      <td>3</td>\n",
       "      <td>23.425627</td>\n",
       "      <td>31.104946</td>\n",
       "      <td>436.200084</td>\n",
       "      <td>1349.229342</td>\n",
       "      <td>0.005386</td>\n",
       "      <td>1.0</td>\n",
       "    </tr>\n",
       "    <tr>\n",
       "      <th>3</th>\n",
       "      <td>4</td>\n",
       "      <td>20.166031</td>\n",
       "      <td>31.384292</td>\n",
       "      <td>0.000000</td>\n",
       "      <td>477.423360</td>\n",
       "      <td>0.004294</td>\n",
       "      <td>0.0</td>\n",
       "    </tr>\n",
       "    <tr>\n",
       "      <th>4</th>\n",
       "      <td>5</td>\n",
       "      <td>21.156009</td>\n",
       "      <td>23.636922</td>\n",
       "      <td>192.408834</td>\n",
       "      <td>579.184588</td>\n",
       "      <td>0.003741</td>\n",
       "      <td>0.0</td>\n",
       "    </tr>\n",
       "  </tbody>\n",
       "</table>\n",
       "</div>"
      ],
      "text/plain": [
       "   id  temperature  relitive_humidity       light          CO2  \\\n",
       "0   1    21.378188          25.525852  134.009125   586.057521   \n",
       "1   2    19.827806          27.059169  132.640046   393.046090   \n",
       "2   3    23.425627          31.104946  436.200084  1349.229342   \n",
       "3   4    20.166031          31.384292    0.000000   477.423360   \n",
       "4   5    21.156009          23.636922  192.408834   579.184588   \n",
       "\n",
       "   absolute_humidity  occupied  \n",
       "0           0.003686       0.0  \n",
       "1           0.003989       0.0  \n",
       "2           0.005386       1.0  \n",
       "3           0.004294       0.0  \n",
       "4           0.003741       0.0  "
      ]
     },
     "execution_count": 10,
     "metadata": {},
     "output_type": "execute_result"
    }
   ],
   "source": [
    "df.head()   # in an initial evaluation, there are indications that the variable occupied will be the target "
   ]
  },
  {
   "cell_type": "markdown",
   "metadata": {},
   "source": [
    "<h3>Correlation</h3>"
   ]
  },
  {
   "cell_type": "code",
   "execution_count": 11,
   "metadata": {},
   "outputs": [
    {
     "data": {
      "text/html": [
       "<div>\n",
       "<style scoped>\n",
       "    .dataframe tbody tr th:only-of-type {\n",
       "        vertical-align: middle;\n",
       "    }\n",
       "\n",
       "    .dataframe tbody tr th {\n",
       "        vertical-align: top;\n",
       "    }\n",
       "\n",
       "    .dataframe thead th {\n",
       "        text-align: right;\n",
       "    }\n",
       "</style>\n",
       "<table border=\"1\" class=\"dataframe\">\n",
       "  <thead>\n",
       "    <tr style=\"text-align: right;\">\n",
       "      <th></th>\n",
       "      <th>id</th>\n",
       "      <th>temperature</th>\n",
       "      <th>relitive_humidity</th>\n",
       "      <th>light</th>\n",
       "      <th>CO2</th>\n",
       "      <th>absolute_humidity</th>\n",
       "      <th>occupied</th>\n",
       "    </tr>\n",
       "  </thead>\n",
       "  <tbody>\n",
       "    <tr>\n",
       "      <th>CO2</th>\n",
       "      <td>-0.001355</td>\n",
       "      <td>0.399512</td>\n",
       "      <td>0.299320</td>\n",
       "      <td>0.191636</td>\n",
       "      <td>1.000000</td>\n",
       "      <td>0.462635</td>\n",
       "      <td>0.501858</td>\n",
       "    </tr>\n",
       "    <tr>\n",
       "      <th>absolute_humidity</th>\n",
       "      <td>-0.007740</td>\n",
       "      <td>0.186489</td>\n",
       "      <td>0.890706</td>\n",
       "      <td>0.093850</td>\n",
       "      <td>0.462635</td>\n",
       "      <td>1.000000</td>\n",
       "      <td>0.262869</td>\n",
       "    </tr>\n",
       "    <tr>\n",
       "      <th>id</th>\n",
       "      <td>1.000000</td>\n",
       "      <td>-0.003755</td>\n",
       "      <td>-0.006547</td>\n",
       "      <td>-0.006751</td>\n",
       "      <td>-0.001355</td>\n",
       "      <td>-0.007740</td>\n",
       "      <td>0.000071</td>\n",
       "    </tr>\n",
       "    <tr>\n",
       "      <th>light</th>\n",
       "      <td>-0.006751</td>\n",
       "      <td>0.276728</td>\n",
       "      <td>-0.011742</td>\n",
       "      <td>1.000000</td>\n",
       "      <td>0.191636</td>\n",
       "      <td>0.093850</td>\n",
       "      <td>0.404337</td>\n",
       "    </tr>\n",
       "    <tr>\n",
       "      <th>occupied</th>\n",
       "      <td>0.000071</td>\n",
       "      <td>0.511966</td>\n",
       "      <td>0.056784</td>\n",
       "      <td>0.404337</td>\n",
       "      <td>0.501858</td>\n",
       "      <td>0.262869</td>\n",
       "      <td>1.000000</td>\n",
       "    </tr>\n",
       "    <tr>\n",
       "      <th>relitive_humidity</th>\n",
       "      <td>-0.006547</td>\n",
       "      <td>-0.133339</td>\n",
       "      <td>1.000000</td>\n",
       "      <td>-0.011742</td>\n",
       "      <td>0.299320</td>\n",
       "      <td>0.890706</td>\n",
       "      <td>0.056784</td>\n",
       "    </tr>\n",
       "    <tr>\n",
       "      <th>temperature</th>\n",
       "      <td>-0.003755</td>\n",
       "      <td>1.000000</td>\n",
       "      <td>-0.133339</td>\n",
       "      <td>0.276728</td>\n",
       "      <td>0.399512</td>\n",
       "      <td>0.186489</td>\n",
       "      <td>0.511966</td>\n",
       "    </tr>\n",
       "  </tbody>\n",
       "</table>\n",
       "</div>"
      ],
      "text/plain": [
       "                         id  temperature  relitive_humidity     light  \\\n",
       "CO2               -0.001355     0.399512           0.299320  0.191636   \n",
       "absolute_humidity -0.007740     0.186489           0.890706  0.093850   \n",
       "id                 1.000000    -0.003755          -0.006547 -0.006751   \n",
       "light             -0.006751     0.276728          -0.011742  1.000000   \n",
       "occupied           0.000071     0.511966           0.056784  0.404337   \n",
       "relitive_humidity -0.006547    -0.133339           1.000000 -0.011742   \n",
       "temperature       -0.003755     1.000000          -0.133339  0.276728   \n",
       "\n",
       "                        CO2  absolute_humidity  occupied  \n",
       "CO2                1.000000           0.462635  0.501858  \n",
       "absolute_humidity  0.462635           1.000000  0.262869  \n",
       "id                -0.001355          -0.007740  0.000071  \n",
       "light              0.191636           0.093850  0.404337  \n",
       "occupied           0.501858           0.262869  1.000000  \n",
       "relitive_humidity  0.299320           0.890706  0.056784  \n",
       "temperature        0.399512           0.186489  0.511966  "
      ]
     },
     "execution_count": 11,
     "metadata": {},
     "output_type": "execute_result"
    }
   ],
   "source": [
    "df.corr().sort_index()  # correlation matrix gives away the target variable"
   ]
  },
  {
   "cell_type": "markdown",
   "metadata": {},
   "source": [
    "To determine the independent variables that have the greatest correlation with the target variable (AKA. dependent variable), we resort to the follow block of code"
   ]
  },
  {
   "cell_type": "code",
   "execution_count": 12,
   "metadata": {},
   "outputs": [
    {
     "data": {
      "text/plain": [
       "id                   0.000071\n",
       "relitive_humidity    0.056784\n",
       "absolute_humidity    0.262869\n",
       "light                0.404337\n",
       "CO2                  0.501858\n",
       "temperature          0.511966\n",
       "occupied             1.000000\n",
       "Name: occupied, dtype: float64"
      ]
     },
     "execution_count": 12,
     "metadata": {},
     "output_type": "execute_result"
    }
   ],
   "source": [
    "corr = df.corr()\n",
    "corr.occupied.abs().sort_values()    # With this, we verify that the variable ID has no real weight on the target variable"
   ]
  },
  {
   "cell_type": "markdown",
   "metadata": {},
   "source": [
    "This can also be visualized with a heat map"
   ]
  },
  {
   "cell_type": "code",
   "execution_count": 37,
   "metadata": {},
   "outputs": [
    {
     "data": {
      "text/plain": [
       "<AxesSubplot:>"
      ]
     },
     "execution_count": 37,
     "metadata": {},
     "output_type": "execute_result"
    },
    {
     "data": {
      "image/png": "[encoded data removed]",
      "text/plain": [
       "<Figure size 640x480 with 2 Axes>"
      ]
     },
     "metadata": {},
     "output_type": "display_data"
    }
   ],
   "source": [
    "import seaborn as sns\n",
    "sns.heatmap(df.corr(),vmin=-1, vmax=1, cmap=\"PiYG\")"
   ]
  },
  {
   "cell_type": "markdown",
   "metadata": {},
   "source": [
    "We filter our the less important variable"
   ]
  },
  {
   "cell_type": "code",
   "execution_count": 13,
   "metadata": {},
   "outputs": [
    {
     "data": {
      "text/html": [
       "<div>\n",
       "<style scoped>\n",
       "    .dataframe tbody tr th:only-of-type {\n",
       "        vertical-align: middle;\n",
       "    }\n",
       "\n",
       "    .dataframe tbody tr th {\n",
       "        vertical-align: top;\n",
       "    }\n",
       "\n",
       "    .dataframe thead th {\n",
       "        text-align: right;\n",
       "    }\n",
       "</style>\n",
       "<table border=\"1\" class=\"dataframe\">\n",
       "  <thead>\n",
       "    <tr style=\"text-align: right;\">\n",
       "      <th></th>\n",
       "      <th>temperature</th>\n",
       "      <th>relitive_humidity</th>\n",
       "      <th>light</th>\n",
       "      <th>CO2</th>\n",
       "      <th>absolute_humidity</th>\n",
       "      <th>occupied</th>\n",
       "    </tr>\n",
       "  </thead>\n",
       "  <tbody>\n",
       "    <tr>\n",
       "      <th>0</th>\n",
       "      <td>21.378188</td>\n",
       "      <td>25.525852</td>\n",
       "      <td>134.009125</td>\n",
       "      <td>586.057521</td>\n",
       "      <td>0.003686</td>\n",
       "      <td>0.0</td>\n",
       "    </tr>\n",
       "    <tr>\n",
       "      <th>1</th>\n",
       "      <td>19.827806</td>\n",
       "      <td>27.059169</td>\n",
       "      <td>132.640046</td>\n",
       "      <td>393.046090</td>\n",
       "      <td>0.003989</td>\n",
       "      <td>0.0</td>\n",
       "    </tr>\n",
       "    <tr>\n",
       "      <th>2</th>\n",
       "      <td>23.425627</td>\n",
       "      <td>31.104946</td>\n",
       "      <td>436.200084</td>\n",
       "      <td>1349.229342</td>\n",
       "      <td>0.005386</td>\n",
       "      <td>1.0</td>\n",
       "    </tr>\n",
       "    <tr>\n",
       "      <th>3</th>\n",
       "      <td>20.166031</td>\n",
       "      <td>31.384292</td>\n",
       "      <td>0.000000</td>\n",
       "      <td>477.423360</td>\n",
       "      <td>0.004294</td>\n",
       "      <td>0.0</td>\n",
       "    </tr>\n",
       "    <tr>\n",
       "      <th>4</th>\n",
       "      <td>21.156009</td>\n",
       "      <td>23.636922</td>\n",
       "      <td>192.408834</td>\n",
       "      <td>579.184588</td>\n",
       "      <td>0.003741</td>\n",
       "      <td>0.0</td>\n",
       "    </tr>\n",
       "  </tbody>\n",
       "</table>\n",
       "</div>"
      ],
      "text/plain": [
       "   temperature  relitive_humidity       light          CO2  absolute_humidity  \\\n",
       "0    21.378188          25.525852  134.009125   586.057521           0.003686   \n",
       "1    19.827806          27.059169  132.640046   393.046090           0.003989   \n",
       "2    23.425627          31.104946  436.200084  1349.229342           0.005386   \n",
       "3    20.166031          31.384292    0.000000   477.423360           0.004294   \n",
       "4    21.156009          23.636922  192.408834   579.184588           0.003741   \n",
       "\n",
       "   occupied  \n",
       "0       0.0  \n",
       "1       0.0  \n",
       "2       1.0  \n",
       "3       0.0  \n",
       "4       0.0  "
      ]
     },
     "execution_count": 13,
     "metadata": {},
     "output_type": "execute_result"
    }
   ],
   "source": [
    "nomes = ['temperature', 'relitive_humidity', 'light', 'CO2', 'absolute_humidity', 'occupied']\n",
    "df = df[nomes]\n",
    "df.head()"
   ]
  },
  {
   "cell_type": "markdown",
   "metadata": {},
   "source": [
    "<h1>Dataframe data processing</h1>"
   ]
  },
  {
   "cell_type": "markdown",
   "metadata": {},
   "source": [
    "For a better understanding of the variable, we change the target from 'occupied' to 'target'"
   ]
  },
  {
   "cell_type": "code",
   "execution_count": 15,
   "metadata": {},
   "outputs": [],
   "source": [
    "df = df.rename(columns={\"occupied\":\"target\"})"
   ]
  },
  {
   "cell_type": "markdown",
   "metadata": {},
   "source": [
    "We change the boolean value, before represented by a float, to a string "
   ]
  },
  {
   "cell_type": "code",
   "execution_count": 17,
   "metadata": {},
   "outputs": [
    {
     "data": {
      "text/html": [
       "<div>\n",
       "<style scoped>\n",
       "    .dataframe tbody tr th:only-of-type {\n",
       "        vertical-align: middle;\n",
       "    }\n",
       "\n",
       "    .dataframe tbody tr th {\n",
       "        vertical-align: top;\n",
       "    }\n",
       "\n",
       "    .dataframe thead th {\n",
       "        text-align: right;\n",
       "    }\n",
       "</style>\n",
       "<table border=\"1\" class=\"dataframe\">\n",
       "  <thead>\n",
       "    <tr style=\"text-align: right;\">\n",
       "      <th></th>\n",
       "      <th>temperature</th>\n",
       "      <th>relitive_humidity</th>\n",
       "      <th>light</th>\n",
       "      <th>CO2</th>\n",
       "      <th>absolute_humidity</th>\n",
       "      <th>target</th>\n",
       "    </tr>\n",
       "  </thead>\n",
       "  <tbody>\n",
       "    <tr>\n",
       "      <th>0</th>\n",
       "      <td>21.378188</td>\n",
       "      <td>25.525852</td>\n",
       "      <td>134.009125</td>\n",
       "      <td>586.057521</td>\n",
       "      <td>0.003686</td>\n",
       "      <td>vacant</td>\n",
       "    </tr>\n",
       "    <tr>\n",
       "      <th>1</th>\n",
       "      <td>19.827806</td>\n",
       "      <td>27.059169</td>\n",
       "      <td>132.640046</td>\n",
       "      <td>393.046090</td>\n",
       "      <td>0.003989</td>\n",
       "      <td>vacant</td>\n",
       "    </tr>\n",
       "    <tr>\n",
       "      <th>2</th>\n",
       "      <td>23.425627</td>\n",
       "      <td>31.104946</td>\n",
       "      <td>436.200084</td>\n",
       "      <td>1349.229342</td>\n",
       "      <td>0.005386</td>\n",
       "      <td>occupied</td>\n",
       "    </tr>\n",
       "    <tr>\n",
       "      <th>3</th>\n",
       "      <td>20.166031</td>\n",
       "      <td>31.384292</td>\n",
       "      <td>0.000000</td>\n",
       "      <td>477.423360</td>\n",
       "      <td>0.004294</td>\n",
       "      <td>vacant</td>\n",
       "    </tr>\n",
       "    <tr>\n",
       "      <th>4</th>\n",
       "      <td>21.156009</td>\n",
       "      <td>23.636922</td>\n",
       "      <td>192.408834</td>\n",
       "      <td>579.184588</td>\n",
       "      <td>0.003741</td>\n",
       "      <td>vacant</td>\n",
       "    </tr>\n",
       "  </tbody>\n",
       "</table>\n",
       "</div>"
      ],
      "text/plain": [
       "   temperature  relitive_humidity       light          CO2  absolute_humidity  \\\n",
       "0    21.378188          25.525852  134.009125   586.057521           0.003686   \n",
       "1    19.827806          27.059169  132.640046   393.046090           0.003989   \n",
       "2    23.425627          31.104946  436.200084  1349.229342           0.005386   \n",
       "3    20.166031          31.384292    0.000000   477.423360           0.004294   \n",
       "4    21.156009          23.636922  192.408834   579.184588           0.003741   \n",
       "\n",
       "     target  \n",
       "0    vacant  \n",
       "1    vacant  \n",
       "2  occupied  \n",
       "3    vacant  \n",
       "4    vacant  "
      ]
     },
     "execution_count": 17,
     "metadata": {},
     "output_type": "execute_result"
    }
   ],
   "source": [
    "df.target = df.target.map({0:'vacant', 1:'occupied'})\n",
    "\n",
    "df.head()"
   ]
  },
  {
   "cell_type": "markdown",
   "metadata": {},
   "source": [
    "<h3>Not a number (NaN)</h3>"
   ]
  },
  {
   "cell_type": "markdown",
   "metadata": {},
   "source": [
    "We first check the cases in where there are corrupted values"
   ]
  },
  {
   "cell_type": "code",
   "execution_count": 36,
   "metadata": {},
   "outputs": [
    {
     "data": {
      "text/plain": [
       "temperature          0\n",
       "relitive_humidity    0\n",
       "light                0\n",
       "CO2                  0\n",
       "absolute_humidity    0\n",
       "target               0\n",
       "dtype: int64"
      ]
     },
     "execution_count": 36,
     "metadata": {},
     "output_type": "execute_result"
    }
   ],
   "source": [
    "df.isnull().sum()"
   ]
  },
  {
   "cell_type": "markdown",
   "metadata": {},
   "source": [
    "Because the target variable is categorical, we don't have a choice but to remove the rows that do not have a target specified."
   ]
  },
  {
   "cell_type": "code",
   "execution_count": 20,
   "metadata": {},
   "outputs": [],
   "source": [
    "df.dropna(inplace=True, subset=['target'])  # Retiramos os dados nulos do target "
   ]
  },
  {
   "cell_type": "markdown",
   "metadata": {},
   "source": [
    "As for the remaining NaN independent variables, we can fill these out with a mean of their other rows (but same attribute)"
   ]
  },
  {
   "cell_type": "code",
   "execution_count": 21,
   "metadata": {},
   "outputs": [
    {
     "name": "stderr",
     "output_type": "stream",
     "text": [
      "C:\\Users\\ha_98\\AppData\\Local\\Temp\\ipykernel_17504\\3703060463.py:1: FutureWarning: Dropping of nuisance columns in DataFrame reductions (with 'numeric_only=None') is deprecated; in a future version this will raise TypeError.  Select only valid columns before calling the reduction.\n",
      "  df = df.fillna(df.mean()) # Filling the NaN with a mean of other rows\n"
     ]
    }
   ],
   "source": [
    "df = df.fillna(df.mean()) # Filling the NaN with a mean of other rows"
   ]
  },
  {
   "cell_type": "code",
   "execution_count": 35,
   "metadata": {},
   "outputs": [
    {
     "data": {
      "text/plain": [
       "temperature          0\n",
       "relitive_humidity    0\n",
       "light                0\n",
       "CO2                  0\n",
       "absolute_humidity    0\n",
       "target               0\n",
       "dtype: int64"
      ]
     },
     "execution_count": 35,
     "metadata": {},
     "output_type": "execute_result"
    }
   ],
   "source": [
    "df.isnull().sum()\n",
    "\n",
    "# There are no longer NaN instances"
   ]
  },
  {
   "cell_type": "markdown",
   "metadata": {},
   "source": [
    "<h3>Duplicated rows</h3>"
   ]
  },
  {
   "cell_type": "markdown",
   "metadata": {},
   "source": [
    "\n",
    "To avoid an overfitting of the Machine Learning algorithm, it is necessary that all duplicated rows be dealt with."
   ]
  },
  {
   "cell_type": "code",
   "execution_count": 25,
   "metadata": {},
   "outputs": [
    {
     "data": {
      "text/plain": [
       "'Duplicated rows: 0'"
      ]
     },
     "execution_count": 25,
     "metadata": {},
     "output_type": "execute_result"
    }
   ],
   "source": [
    "\"Duplicated rows: \" + str(df.duplicated().sum())"
   ]
  },
  {
   "cell_type": "markdown",
   "metadata": {},
   "source": [
    "As seen above, there are no duplicated rows."
   ]
  },
  {
   "cell_type": "markdown",
   "metadata": {},
   "source": [
    "<h3>Data balancing</h3>"
   ]
  },
  {
   "cell_type": "markdown",
   "metadata": {},
   "source": [
    "\n",
    "As seen below, the dataframe is not properly balanced, having a greater number of vacant rows then its counter-part."
   ]
  },
  {
   "cell_type": "code",
   "execution_count": 27,
   "metadata": {},
   "outputs": [
    {
     "data": {
      "text/plain": [
       "vacant      10759\n",
       "occupied     3240\n",
       "Name: target, dtype: int64"
      ]
     },
     "execution_count": 27,
     "metadata": {},
     "output_type": "execute_result"
    }
   ],
   "source": [
    "df.target.value_counts()"
   ]
  },
  {
   "cell_type": "markdown",
   "metadata": {},
   "source": [
    "\n",
    "To mitigate this, we resort to the random partioning of data."
   ]
  },
  {
   "cell_type": "markdown",
   "metadata": {},
   "source": [
    "<h3>Data portioning - Spliting the dataframe</h3>"
   ]
  },
  {
   "cell_type": "markdown",
   "metadata": {},
   "source": [
    "\n",
    "It is necessary that the dataframe be divided in two: for testing and training, having also a random_state attributed to this portioning."
   ]
  },
  {
   "cell_type": "code",
   "execution_count": 28,
   "metadata": {},
   "outputs": [],
   "source": [
    "from sklearn.model_selection import train_test_split"
   ]
  },
  {
   "cell_type": "code",
   "execution_count": 29,
   "metadata": {},
   "outputs": [],
   "source": [
    "Xtrain, Xtest, Ytrain, Ytest = train_test_split(df.drop('target', axis=1), df[['target']], test_size=0.30, random_state=999)  # We remove the target variable from the Xtrain and Xtest variables and remove the independent variables on the Ytrain and Ytest variables\n"
   ]
  },
  {
   "cell_type": "markdown",
   "metadata": {},
   "source": [
    "<h1>Machine Learning Models</h1>"
   ]
  },
  {
   "cell_type": "markdown",
   "metadata": {},
   "source": [
    "<h3>Logistic Regression</h3>"
   ]
  },
  {
   "cell_type": "code",
   "execution_count": 30,
   "metadata": {},
   "outputs": [],
   "source": [
    "from sklearn.linear_model import LogisticRegression"
   ]
  },
  {
   "cell_type": "code",
   "execution_count": 31,
   "metadata": {},
   "outputs": [],
   "source": [
    "model = LogisticRegression()"
   ]
  },
  {
   "cell_type": "markdown",
   "metadata": {},
   "source": [
    "\n",
    "We need to apply the 'ravel()' method to the values of Ytrain because the method 'fit' is expecting a 1D array but it's getting a dataframe with only a Y column."
   ]
  },
  {
   "cell_type": "code",
   "execution_count": 34,
   "metadata": {},
   "outputs": [
    {
     "data": {
      "text/plain": [
       "LogisticRegression()"
      ]
     },
     "execution_count": 34,
     "metadata": {},
     "output_type": "execute_result"
    }
   ],
   "source": [
    "model.fit(X=Xtrain, y=Ytrain.values.ravel())"
   ]
  },
  {
   "cell_type": "markdown",
   "metadata": {},
   "source": [
    "Before we continue to the model's metrics evaluation, we first must search for the optimal hiperparameters. Although LR does not really have any critical ones to tune, it is always a good idea to test them out."
   ]
  },
  {
   "cell_type": "code",
   "execution_count": 50,
   "metadata": {},
   "outputs": [],
   "source": [
    "from sklearn.model_selection import GridSearchCV\n",
    "import numpy as np # linear algebra\n",
    "\n",
    "grid={\"C\":np.logspace(-3,3,7), \"penalty\":[\"l1\",\"l2\"]}\n",
    "\n",
    "search_model = GridSearchCV(model,param_grid=grid,cv=5)"
   ]
  },
  {
   "cell_type": "markdown",
   "metadata": {},
   "source": [
    "We then train the search model to get the perfect LR model"
   ]
  },
  {
   "cell_type": "code",
   "execution_count": 63,
   "metadata": {},
   "outputs": [
    {
     "data": {
      "text/plain": [
       "0.8861904761904762"
      ]
     },
     "execution_count": 63,
     "metadata": {},
     "output_type": "execute_result"
    }
   ],
   "source": [
    "import warnings; warnings.simplefilter('ignore') # remove warnings\n",
    "\n",
    "search_model.fit(X=Xtrain,y=Ytrain.values.ravel())\n",
    "best_LR_model = search_model.best_estimator_"
   ]
  },
  {
   "cell_type": "markdown",
   "metadata": {},
   "source": [
    "<h5>F1 Metric<h5>"
   ]
  },
  {
   "cell_type": "markdown",
   "metadata": {},
   "source": [
    "\n",
    "To use the F1 metric, we first have to define the following variables"
   ]
  },
  {
   "cell_type": "code",
   "execution_count": 66,
   "metadata": {},
   "outputs": [],
   "source": [
    "forecasts = best_LR_model.predict(X=Xtest) # forecast using the test data\n",
    "probs = best_LR_model.predict_proba(X=Xtest)\n",
    "probs = probs[:,1] # probability of the house being occupied"
   ]
  },
  {
   "cell_type": "markdown",
   "metadata": {},
   "source": [
    "Para uma melhor organização de dados, colocamos as variáveis que necessitamos para a métrica em causa num dataframe novo"
   ]
  },
  {
   "cell_type": "code",
   "execution_count": 69,
   "metadata": {},
   "outputs": [
    {
     "data": {
      "text/html": [
       "<div>\n",
       "<style scoped>\n",
       "    .dataframe tbody tr th:only-of-type {\n",
       "        vertical-align: middle;\n",
       "    }\n",
       "\n",
       "    .dataframe tbody tr th {\n",
       "        vertical-align: top;\n",
       "    }\n",
       "\n",
       "    .dataframe thead th {\n",
       "        text-align: right;\n",
       "    }\n",
       "</style>\n",
       "<table border=\"1\" class=\"dataframe\">\n",
       "  <thead>\n",
       "    <tr style=\"text-align: right;\">\n",
       "      <th></th>\n",
       "      <th>prob</th>\n",
       "      <th>forecast</th>\n",
       "      <th>real</th>\n",
       "    </tr>\n",
       "  </thead>\n",
       "  <tbody>\n",
       "    <tr>\n",
       "      <th>10060</th>\n",
       "      <td>0.824318</td>\n",
       "      <td>vacant</td>\n",
       "      <td>occupied</td>\n",
       "    </tr>\n",
       "    <tr>\n",
       "      <th>4420</th>\n",
       "      <td>0.973771</td>\n",
       "      <td>vacant</td>\n",
       "      <td>vacant</td>\n",
       "    </tr>\n",
       "    <tr>\n",
       "      <th>5782</th>\n",
       "      <td>0.219127</td>\n",
       "      <td>occupied</td>\n",
       "      <td>vacant</td>\n",
       "    </tr>\n",
       "    <tr>\n",
       "      <th>4723</th>\n",
       "      <td>0.949216</td>\n",
       "      <td>vacant</td>\n",
       "      <td>vacant</td>\n",
       "    </tr>\n",
       "    <tr>\n",
       "      <th>13410</th>\n",
       "      <td>0.418183</td>\n",
       "      <td>occupied</td>\n",
       "      <td>vacant</td>\n",
       "    </tr>\n",
       "    <tr>\n",
       "      <th>...</th>\n",
       "      <td>...</td>\n",
       "      <td>...</td>\n",
       "      <td>...</td>\n",
       "    </tr>\n",
       "    <tr>\n",
       "      <th>3515</th>\n",
       "      <td>0.032415</td>\n",
       "      <td>occupied</td>\n",
       "      <td>occupied</td>\n",
       "    </tr>\n",
       "    <tr>\n",
       "      <th>3156</th>\n",
       "      <td>0.966508</td>\n",
       "      <td>vacant</td>\n",
       "      <td>vacant</td>\n",
       "    </tr>\n",
       "    <tr>\n",
       "      <th>4495</th>\n",
       "      <td>0.975947</td>\n",
       "      <td>vacant</td>\n",
       "      <td>vacant</td>\n",
       "    </tr>\n",
       "    <tr>\n",
       "      <th>10161</th>\n",
       "      <td>0.921716</td>\n",
       "      <td>vacant</td>\n",
       "      <td>vacant</td>\n",
       "    </tr>\n",
       "    <tr>\n",
       "      <th>5956</th>\n",
       "      <td>0.981101</td>\n",
       "      <td>vacant</td>\n",
       "      <td>vacant</td>\n",
       "    </tr>\n",
       "  </tbody>\n",
       "</table>\n",
       "<p>4200 rows × 3 columns</p>\n",
       "</div>"
      ],
      "text/plain": [
       "           prob  forecast      real\n",
       "10060  0.824318    vacant  occupied\n",
       "4420   0.973771    vacant    vacant\n",
       "5782   0.219127  occupied    vacant\n",
       "4723   0.949216    vacant    vacant\n",
       "13410  0.418183  occupied    vacant\n",
       "...         ...       ...       ...\n",
       "3515   0.032415  occupied  occupied\n",
       "3156   0.966508    vacant    vacant\n",
       "4495   0.975947    vacant    vacant\n",
       "10161  0.921716    vacant    vacant\n",
       "5956   0.981101    vacant    vacant\n",
       "\n",
       "[4200 rows x 3 columns]"
      ]
     },
     "execution_count": 69,
     "metadata": {},
     "output_type": "execute_result"
    }
   ],
   "source": [
    "diagnistic = pd.DataFrame({'prob': probs, 'forecast' : forecasts, 'real' : Ytest.target})\n",
    "diagnistic"
   ]
  },
  {
   "cell_type": "markdown",
   "metadata": {},
   "source": [
    "\n",
    "Through the matrix of confusion, we can have an idea on how accurate the model is. The closer this matrix is to the identity matrix, the better."
   ]
  },
  {
   "cell_type": "code",
   "execution_count": 71,
   "metadata": {},
   "outputs": [
    {
     "name": "stdout",
     "output_type": "stream",
     "text": [
      "forecast  occupied  vacant\n",
      "real                      \n",
      "occupied       689     308\n",
      "vacant         170    3033\n"
     ]
    }
   ],
   "source": [
    "print(pd.crosstab(diagnistic.real, diagnistic.forecast)) # confusion matrix"
   ]
  },
  {
   "cell_type": "markdown",
   "metadata": {},
   "source": [
    "To use the F1 metric, the following instruction is used."
   ]
  },
  {
   "cell_type": "code",
   "execution_count": 72,
   "metadata": {},
   "outputs": [],
   "source": [
    "from sklearn import metrics"
   ]
  },
  {
   "cell_type": "markdown",
   "metadata": {},
   "source": [
    "É de notar que o parametro 'pos_label' tem que ser o valor considerado positivo"
   ]
  },
  {
   "cell_type": "code",
   "execution_count": 75,
   "metadata": {},
   "outputs": [
    {
     "data": {
      "text/plain": [
       "'F1 Metric: 0.8347064433858866'"
      ]
     },
     "execution_count": 75,
     "metadata": {},
     "output_type": "execute_result"
    }
   ],
   "source": [
    "\"F1 Metric: \" + str(metrics.f1_score(y_true = diagnistic.real,y_pred=diagnistic.forecast, average='macro'))"
   ]
  },
  {
   "cell_type": "markdown",
   "metadata": {},
   "source": [
    "<h3>K Closest Neighbours</h3>"
   ]
  },
  {
   "cell_type": "markdown",
   "metadata": {},
   "source": [
    "\n",
    "Because this model only works with numbers, we have to convert back our target variable from a categorical form to a nominal form."
   ]
  },
  {
   "cell_type": "code",
   "execution_count": 76,
   "metadata": {},
   "outputs": [],
   "source": [
    "from sklearn.preprocessing import LabelEncoder"
   ]
  },
  {
   "cell_type": "code",
   "execution_count": 79,
   "metadata": {},
   "outputs": [],
   "source": [
    "le = LabelEncoder()\n",
    "encoded_yteste = Ytest[Ytest.columns[:]].apply(le.fit_transform)\n",
    "encoded_ytreino = Ytrain[Ytrain.columns[:]].apply(le.fit_transform)"
   ]
  },
  {
   "cell_type": "code",
   "execution_count": 81,
   "metadata": {},
   "outputs": [
    {
     "data": {
      "text/html": [
       "<div>\n",
       "<style scoped>\n",
       "    .dataframe tbody tr th:only-of-type {\n",
       "        vertical-align: middle;\n",
       "    }\n",
       "\n",
       "    .dataframe tbody tr th {\n",
       "        vertical-align: top;\n",
       "    }\n",
       "\n",
       "    .dataframe thead th {\n",
       "        text-align: right;\n",
       "    }\n",
       "</style>\n",
       "<table border=\"1\" class=\"dataframe\">\n",
       "  <thead>\n",
       "    <tr style=\"text-align: right;\">\n",
       "      <th></th>\n",
       "      <th>target</th>\n",
       "    </tr>\n",
       "  </thead>\n",
       "  <tbody>\n",
       "    <tr>\n",
       "      <th>10060</th>\n",
       "      <td>0</td>\n",
       "    </tr>\n",
       "    <tr>\n",
       "      <th>4420</th>\n",
       "      <td>1</td>\n",
       "    </tr>\n",
       "    <tr>\n",
       "      <th>5782</th>\n",
       "      <td>1</td>\n",
       "    </tr>\n",
       "    <tr>\n",
       "      <th>4723</th>\n",
       "      <td>1</td>\n",
       "    </tr>\n",
       "    <tr>\n",
       "      <th>13410</th>\n",
       "      <td>1</td>\n",
       "    </tr>\n",
       "    <tr>\n",
       "      <th>...</th>\n",
       "      <td>...</td>\n",
       "    </tr>\n",
       "    <tr>\n",
       "      <th>3515</th>\n",
       "      <td>0</td>\n",
       "    </tr>\n",
       "    <tr>\n",
       "      <th>3156</th>\n",
       "      <td>1</td>\n",
       "    </tr>\n",
       "    <tr>\n",
       "      <th>4495</th>\n",
       "      <td>1</td>\n",
       "    </tr>\n",
       "    <tr>\n",
       "      <th>10161</th>\n",
       "      <td>1</td>\n",
       "    </tr>\n",
       "    <tr>\n",
       "      <th>5956</th>\n",
       "      <td>1</td>\n",
       "    </tr>\n",
       "  </tbody>\n",
       "</table>\n",
       "<p>4200 rows × 1 columns</p>\n",
       "</div>"
      ],
      "text/plain": [
       "       target\n",
       "10060       0\n",
       "4420        1\n",
       "5782        1\n",
       "4723        1\n",
       "13410       1\n",
       "...       ...\n",
       "3515        0\n",
       "3156        1\n",
       "4495        1\n",
       "10161       1\n",
       "5956        1\n",
       "\n",
       "[4200 rows x 1 columns]"
      ]
     },
     "execution_count": 81,
     "metadata": {},
     "output_type": "execute_result"
    }
   ],
   "source": [
    "encoded_yteste"
   ]
  },
  {
   "cell_type": "markdown",
   "metadata": {},
   "source": [
    "\n",
    "The K closest neighbours is based on the distance between the data represende in an N dimention plane."
   ]
  },
  {
   "cell_type": "code",
   "execution_count": 83,
   "metadata": {},
   "outputs": [],
   "source": [
    "from sklearn.preprocessing import StandardScaler"
   ]
  },
  {
   "cell_type": "code",
   "execution_count": 84,
   "metadata": {},
   "outputs": [
    {
     "data": {
      "text/plain": [
       "array([[ 0.15581738, -1.16987951,  0.03363841,  0.44014146, -1.11421785],\n",
       "       [-0.47881398,  0.68143121, -0.72816036,  0.16173058,  0.14748658],\n",
       "       [ 0.23813741,  1.74894268,  0.50122728,  2.42383255,  1.9672476 ],\n",
       "       ...,\n",
       "       [-0.71188059, -0.5787875 , -0.72816036,  0.31868307, -0.45740215],\n",
       "       [-0.69154424,  2.5195645 ,  0.51368037, -0.56334426,  1.4765762 ],\n",
       "       [-0.83322684,  0.4562092 , -0.72816036,  0.16238333, -0.09736772]])"
      ]
     },
     "execution_count": 84,
     "metadata": {},
     "output_type": "execute_result"
    }
   ],
   "source": [
    "scaler = StandardScaler()\n",
    "scaler.fit_transform(Xtrain)\n",
    "scaler.transform(Xtest)"
   ]
  },
  {
   "cell_type": "code",
   "execution_count": 85,
   "metadata": {},
   "outputs": [],
   "source": [
    "from sklearn.neighbors import KNeighborsClassifier"
   ]
  },
  {
   "cell_type": "markdown",
   "metadata": {},
   "source": [
    "\n",
    "To determina the hiperplane K, we choose a good sample size and we iterate through the values to find a range to feed the GridSearch."
   ]
  },
  {
   "cell_type": "code",
   "execution_count": 91,
   "metadata": {},
   "outputs": [],
   "source": [
    "f1_list=[]\n",
    "k_list=[]\n",
    "\n",
    "for k in range(20, 60):\n",
    "    model = KNeighborsClassifier(n_neighbors = k)\n",
    "    model.fit(Xtrain, Ytrain.values.ravel())\n",
    "    pred=model.predict(Xtest)\n",
    "    f=metrics.f1_score(Ytest, pred, average='macro')\n",
    "    f1_list.append(f)\n",
    "    k_list.append(k)"
   ]
  },
  {
   "cell_type": "code",
   "execution_count": 92,
   "metadata": {},
   "outputs": [
    {
     "data": {
      "image/png": "[encoded data removed]",
      "text/plain": [
       "<Figure size 640x480 with 1 Axes>"
      ]
     },
     "metadata": {},
     "output_type": "display_data"
    }
   ],
   "source": [
    "import matplotlib.pyplot as plt\n",
    "plt.plot(k_list, f1_list)\n",
    "plt.xlabel(\"Values for K\")\n",
    "plt.ylabel(\"F1 Metric\")\n",
    "plt.show()"
   ]
  },
  {
   "cell_type": "markdown",
   "metadata": {},
   "source": [
    "\n",
    "With the graph above we can determine the best value for K is between 30 and 40. With these values, we can now use SearchGrid for the absolute best hiperparameter."
   ]
  },
  {
   "cell_type": "code",
   "execution_count": 96,
   "metadata": {},
   "outputs": [],
   "source": [
    "from sklearn.model_selection import GridSearchCV"
   ]
  },
  {
   "cell_type": "code",
   "execution_count": 97,
   "metadata": {},
   "outputs": [
    {
     "name": "stdout",
     "output_type": "stream",
     "text": [
      "Fitting 10 folds for each of 10 candidates, totalling 100 fits\n"
     ]
    },
    {
     "data": {
      "text/plain": [
       "GridSearchCV(cv=10, estimator=KNeighborsClassifier(n_neighbors=59),\n",
       "             param_grid={'n_neighbors': [30, 31, 32, 33, 34, 35, 36, 37, 38,\n",
       "                                         39]},\n",
       "             scoring='f1', verbose=1)"
      ]
     },
     "execution_count": 97,
     "metadata": {},
     "output_type": "execute_result"
    }
   ],
   "source": [
    "modelo = KNeighborsClassifier()\n",
    "\n",
    "k_gama = list(range(30, 40))\n",
    "params = dict(n_neighbors=k_gama)\n",
    "  \n",
    "# construindo o modelo para procurar os melhores parametros, com a métrica F1\n",
    "search_model = GridSearchCV(model, params, cv=10, scoring='f1',verbose=1)\n",
    "  \n",
    "# treinando o modelo.\n",
    "search_model.fit(Xtrain, encoded_ytreino.values.ravel()) # temos que usar ytreino nomial porque o método fit não está pronto para tratar valores categóricos\n",
    "    \t                                                    # encoded_ytreino é um dataframe de uma coluna binária\n"
   ]
  },
  {
   "cell_type": "code",
   "execution_count": 99,
   "metadata": {},
   "outputs": [
    {
     "data": {
      "text/plain": [
       "{'n_neighbors': 39}"
      ]
     },
     "execution_count": 99,
     "metadata": {},
     "output_type": "execute_result"
    }
   ],
   "source": [
    "search_model.best_params_"
   ]
  },
  {
   "cell_type": "code",
   "execution_count": 101,
   "metadata": {},
   "outputs": [],
   "source": [
    "best_KN_model = search_model.best_estimator_"
   ]
  },
  {
   "cell_type": "markdown",
   "metadata": {},
   "source": [
    "<h5>F1 Metric</h5>"
   ]
  },
  {
   "cell_type": "markdown",
   "metadata": {},
   "source": [
    "With the F1 metric, we can now see that with K=39, the model has an accuracy rate of 87.4%"
   ]
  },
  {
   "cell_type": "code",
   "execution_count": 105,
   "metadata": {},
   "outputs": [
    {
     "name": "stdout",
     "output_type": "stream",
     "text": [
      "Accuracy rate for K = 39 neighbours: 87.4%\n"
     ]
    }
   ],
   "source": [
    "k = 39\n",
    "best_KN_model = KNeighborsClassifier(n_neighbors = k)\n",
    "best_KN_model.fit(Xtrain, Ytrain.values.ravel())\n",
    "pred=best_KN_model.predict(Xtest)\n",
    "f=metrics.f1_score(Ytest,pred,average='macro')\n",
    "print(\"Accuracy rate for K = {} neighbours: {:.1f}%\".format(k, f*100))"
   ]
  },
  {
   "cell_type": "markdown",
   "metadata": {},
   "source": [
    "<h3>Decision tree</h3>"
   ]
  },
  {
   "cell_type": "code",
   "execution_count": 106,
   "metadata": {},
   "outputs": [],
   "source": [
    "from sklearn.tree import DecisionTreeClassifier"
   ]
  },
  {
   "cell_type": "markdown",
   "metadata": {},
   "source": [
    "\n",
    "We fit the model without any tunning to that we can compare the a tunned model."
   ]
  },
  {
   "cell_type": "code",
   "execution_count": 107,
   "metadata": {},
   "outputs": [
    {
     "data": {
      "text/plain": [
       "DecisionTreeClassifier()"
      ]
     },
     "execution_count": 107,
     "metadata": {},
     "output_type": "execute_result"
    }
   ],
   "source": [
    "model = DecisionTreeClassifier()\n",
    "model.fit(X = Xtrain, y = Ytrain)"
   ]
  },
  {
   "cell_type": "code",
   "execution_count": 109,
   "metadata": {},
   "outputs": [
    {
     "data": {
      "text/plain": [
       "0.877600288795632"
      ]
     },
     "execution_count": 109,
     "metadata": {},
     "output_type": "execute_result"
    }
   ],
   "source": [
    "pred=model.predict(Xtest)\n",
    "metrics.f1_score(Ytest,pred,average='macro')"
   ]
  },
  {
   "cell_type": "markdown",
   "metadata": {},
   "source": [
    "To find the best parameters, we use GridSearch"
   ]
  },
  {
   "cell_type": "code",
   "execution_count": 110,
   "metadata": {},
   "outputs": [],
   "source": [
    "from sklearn.model_selection import GridSearchCV"
   ]
  },
  {
   "cell_type": "code",
   "execution_count": 111,
   "metadata": {},
   "outputs": [],
   "source": [
    "params = {'max_leaf_nodes': list(range(20, 40)), 'min_samples_split': [2, 3, 4,5,6], 'criterion': ['gini', 'entropy']}\n",
    "search_model = GridSearchCV(DecisionTreeClassifier(random_state=42), params, verbose=1, cv=3)"
   ]
  },
  {
   "cell_type": "code",
   "execution_count": 112,
   "metadata": {},
   "outputs": [
    {
     "name": "stdout",
     "output_type": "stream",
     "text": [
      "Fitting 3 folds for each of 200 candidates, totalling 600 fits\n"
     ]
    },
    {
     "data": {
      "text/plain": [
       "GridSearchCV(cv=3, estimator=DecisionTreeClassifier(random_state=42),\n",
       "             param_grid={'criterion': ['gini', 'entropy'],\n",
       "                         'max_leaf_nodes': [20, 21, 22, 23, 24, 25, 26, 27, 28,\n",
       "                                            29, 30, 31, 32, 33, 34, 35, 36, 37,\n",
       "                                            38, 39],\n",
       "                         'min_samples_split': [2, 3, 4, 5, 6]},\n",
       "             verbose=1)"
      ]
     },
     "execution_count": 112,
     "metadata": {},
     "output_type": "execute_result"
    }
   ],
   "source": [
    "search_model.fit(X = Xtrain, y = Ytrain)"
   ]
  },
  {
   "cell_type": "markdown",
   "metadata": {},
   "source": [
    "With this, we can access the best parameters"
   ]
  },
  {
   "cell_type": "code",
   "execution_count": 114,
   "metadata": {},
   "outputs": [
    {
     "data": {
      "text/plain": [
       "{'criterion': 'gini', 'max_leaf_nodes': 39, 'min_samples_split': 2}"
      ]
     },
     "execution_count": 114,
     "metadata": {},
     "output_type": "execute_result"
    }
   ],
   "source": [
    "search_model.best_params_"
   ]
  },
  {
   "cell_type": "markdown",
   "metadata": {},
   "source": [
    "And get the optimal model with the paramters above"
   ]
  },
  {
   "cell_type": "code",
   "execution_count": 115,
   "metadata": {},
   "outputs": [],
   "source": [
    "best_tree_model = search_model.best_estimator_"
   ]
  },
  {
   "cell_type": "markdown",
   "metadata": {},
   "source": [
    "With a tunned model, we increased the accuracy rate by approximately 2%"
   ]
  },
  {
   "cell_type": "code",
   "execution_count": 117,
   "metadata": {},
   "outputs": [
    {
     "data": {
      "text/plain": [
       "0.8933968654380678"
      ]
     },
     "execution_count": 117,
     "metadata": {},
     "output_type": "execute_result"
    }
   ],
   "source": [
    "pred=best_tree_model.predict(Xtest)\n",
    "metrics.f1_score(Ytest,pred,average='macro') "
   ]
  },
  {
   "cell_type": "markdown",
   "metadata": {},
   "source": [
    "<h1>Data not know to the models</h1><h3>The real test data<h3>"
   ]
  },
  {
   "cell_type": "code",
   "execution_count": 118,
   "metadata": {},
   "outputs": [],
   "source": [
    "observations = pd.read_csv ('dataset_notclassified.csv')"
   ]
  },
  {
   "cell_type": "markdown",
   "metadata": {},
   "source": [
    "Tratamento de dados"
   ]
  },
  {
   "cell_type": "code",
   "execution_count": 120,
   "metadata": {},
   "outputs": [
    {
     "data": {
      "text/html": [
       "<div>\n",
       "<style scoped>\n",
       "    .dataframe tbody tr th:only-of-type {\n",
       "        vertical-align: middle;\n",
       "    }\n",
       "\n",
       "    .dataframe tbody tr th {\n",
       "        vertical-align: top;\n",
       "    }\n",
       "\n",
       "    .dataframe thead th {\n",
       "        text-align: right;\n",
       "    }\n",
       "</style>\n",
       "<table border=\"1\" class=\"dataframe\">\n",
       "  <thead>\n",
       "    <tr style=\"text-align: right;\">\n",
       "      <th></th>\n",
       "      <th>temperature</th>\n",
       "      <th>relitive_humidity</th>\n",
       "      <th>light</th>\n",
       "      <th>CO2</th>\n",
       "      <th>absolute_humidity</th>\n",
       "    </tr>\n",
       "  </thead>\n",
       "  <tbody>\n",
       "    <tr>\n",
       "      <th>0</th>\n",
       "      <td>21.946406</td>\n",
       "      <td>23.380909</td>\n",
       "      <td>0.000000</td>\n",
       "      <td>711.619659</td>\n",
       "      <td>0.003672</td>\n",
       "    </tr>\n",
       "    <tr>\n",
       "      <th>1</th>\n",
       "      <td>20.613036</td>\n",
       "      <td>32.561529</td>\n",
       "      <td>181.548129</td>\n",
       "      <td>513.492730</td>\n",
       "      <td>0.005278</td>\n",
       "    </tr>\n",
       "    <tr>\n",
       "      <th>2</th>\n",
       "      <td>24.562887</td>\n",
       "      <td>21.856165</td>\n",
       "      <td>194.585937</td>\n",
       "      <td>785.670802</td>\n",
       "      <td>0.004091</td>\n",
       "    </tr>\n",
       "    <tr>\n",
       "      <th>3</th>\n",
       "      <td>22.351602</td>\n",
       "      <td>22.146639</td>\n",
       "      <td>406.747835</td>\n",
       "      <td>852.136825</td>\n",
       "      <td>0.003315</td>\n",
       "    </tr>\n",
       "    <tr>\n",
       "      <th>4</th>\n",
       "      <td>21.972009</td>\n",
       "      <td>20.246332</td>\n",
       "      <td>866.766087</td>\n",
       "      <td>863.585786</td>\n",
       "      <td>0.003663</td>\n",
       "    </tr>\n",
       "  </tbody>\n",
       "</table>\n",
       "</div>"
      ],
      "text/plain": [
       "   temperature  relitive_humidity       light         CO2  absolute_humidity\n",
       "0    21.946406          23.380909    0.000000  711.619659           0.003672\n",
       "1    20.613036          32.561529  181.548129  513.492730           0.005278\n",
       "2    24.562887          21.856165  194.585937  785.670802           0.004091\n",
       "3    22.351602          22.146639  406.747835  852.136825           0.003315\n",
       "4    21.972009          20.246332  866.766087  863.585786           0.003663"
      ]
     },
     "execution_count": 120,
     "metadata": {},
     "output_type": "execute_result"
    }
   ],
   "source": [
    "observations = observations.fillna(observations.mean())   # Preencher nos restantes dados nulos com a média da coluna (ou variável\n",
    "observations[observations.duplicated(keep=False)] #Remover os duplicados\n",
    "names = ['temperature', 'relitive_humidity', 'light', 'CO2', 'absolute_humidity']\n",
    "observations = observations[names]\n",
    "\n",
    "observations.head()"
   ]
  },
  {
   "cell_type": "markdown",
   "metadata": {},
   "source": [
    "Dataframe processing"
   ]
  },
  {
   "cell_type": "code",
   "execution_count": 122,
   "metadata": {},
   "outputs": [
    {
     "data": {
      "text/html": [
       "<div>\n",
       "<style scoped>\n",
       "    .dataframe tbody tr th:only-of-type {\n",
       "        vertical-align: middle;\n",
       "    }\n",
       "\n",
       "    .dataframe tbody tr th {\n",
       "        vertical-align: top;\n",
       "    }\n",
       "\n",
       "    .dataframe thead th {\n",
       "        text-align: right;\n",
       "    }\n",
       "</style>\n",
       "<table border=\"1\" class=\"dataframe\">\n",
       "  <thead>\n",
       "    <tr style=\"text-align: right;\">\n",
       "      <th></th>\n",
       "      <th>occupied</th>\n",
       "    </tr>\n",
       "  </thead>\n",
       "  <tbody>\n",
       "    <tr>\n",
       "      <th>0</th>\n",
       "      <td>vacant</td>\n",
       "    </tr>\n",
       "    <tr>\n",
       "      <th>1</th>\n",
       "      <td>vacant</td>\n",
       "    </tr>\n",
       "    <tr>\n",
       "      <th>2</th>\n",
       "      <td>vacant</td>\n",
       "    </tr>\n",
       "    <tr>\n",
       "      <th>3</th>\n",
       "      <td>occupied</td>\n",
       "    </tr>\n",
       "    <tr>\n",
       "      <th>4</th>\n",
       "      <td>occupied</td>\n",
       "    </tr>\n",
       "    <tr>\n",
       "      <th>...</th>\n",
       "      <td>...</td>\n",
       "    </tr>\n",
       "    <tr>\n",
       "      <th>5555</th>\n",
       "      <td>vacant</td>\n",
       "    </tr>\n",
       "    <tr>\n",
       "      <th>5556</th>\n",
       "      <td>vacant</td>\n",
       "    </tr>\n",
       "    <tr>\n",
       "      <th>5557</th>\n",
       "      <td>vacant</td>\n",
       "    </tr>\n",
       "    <tr>\n",
       "      <th>5558</th>\n",
       "      <td>vacant</td>\n",
       "    </tr>\n",
       "    <tr>\n",
       "      <th>5559</th>\n",
       "      <td>vacant</td>\n",
       "    </tr>\n",
       "  </tbody>\n",
       "</table>\n",
       "<p>5560 rows × 1 columns</p>\n",
       "</div>"
      ],
      "text/plain": [
       "      occupied\n",
       "0       vacant\n",
       "1       vacant\n",
       "2       vacant\n",
       "3     occupied\n",
       "4     occupied\n",
       "...        ...\n",
       "5555    vacant\n",
       "5556    vacant\n",
       "5557    vacant\n",
       "5558    vacant\n",
       "5559    vacant\n",
       "\n",
       "[5560 rows x 1 columns]"
      ]
     },
     "execution_count": 122,
     "metadata": {},
     "output_type": "execute_result"
    }
   ],
   "source": [
    "estimated_classification = best_tree_model.predict(observations)\n",
    "df_class_est = pd.DataFrame(estimated_classification)\n",
    "df_class_est.columns = [\"occupied\"]\n",
    "df_class_est"
   ]
  },
  {
   "cell_type": "markdown",
   "metadata": {},
   "source": [
    "Export the estimated prespectives"
   ]
  },
  {
   "cell_type": "code",
   "execution_count": null,
   "metadata": {},
   "outputs": [],
   "source": [
    "df_class_est.to_csv(\n",
    "    path_or_buf='classificacao_estimada.csv',   #   onde guardar o ficheiro\n",
    "    sep=',',            #   como separar as colunas\n",
    "    na_rep='',          #   como rotular dados nulos\n",
    ")"
   ]
  }
 ],
 "metadata": {
  "kernelspec": {
   "display_name": "Python 3.8.10 64-bit (microsoft store)",
   "language": "python",
   "name": "python3"
  },
  "language_info": {
   "codemirror_mode": {
    "name": "ipython",
    "version": 3
   },
   "file_extension": ".py",
   "mimetype": "text/x-python",
   "name": "python",
   "nbconvert_exporter": "python",
   "pygments_lexer": "ipython3",
   "version": "3.8.10"
  },
  "orig_nbformat": 4,
  "vscode": {
   "interpreter": {
    "hash": "551ed0197ab2a2364e725ed2d6a853281448dcfb8625f3413a301a663ef9bb87"
   }
  }
 },
 "nbformat": 4,
 "nbformat_minor": 2
}
